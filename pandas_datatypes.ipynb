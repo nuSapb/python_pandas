{
 "cells": [
  {
   "cell_type": "code",
   "execution_count": 2,
   "source": [
    "import pandas as pd"
   ],
   "outputs": [],
   "metadata": {}
  },
  {
   "cell_type": "code",
   "execution_count": 3,
   "source": [
    "df=pd.read_table('https://github.com/prasertcbs/tutorial/raw/master/employee.tsv')\r\n",
    "df.head()"
   ],
   "outputs": [
    {
     "output_type": "execute_result",
     "data": {
      "text/plain": [
       "  gender        dob  occupation  work_exp    salary  own_house  children\n",
       "0      M  31-Jul-89       nurse       2.2  223700.0       True         1\n",
       "1    NaN  30-Oct-92     dentist       6.7  121100.0       True         1\n",
       "2      F        NaN  accountant       9.0       NaN      False         2\n",
       "3      F  17-Sep-87    engineer       1.7   79900.0      False         0\n",
       "4      M  24-Jan-93     teacher       3.6   32800.0      False         2"
      ],
      "text/html": [
       "<div>\n",
       "<style scoped>\n",
       "    .dataframe tbody tr th:only-of-type {\n",
       "        vertical-align: middle;\n",
       "    }\n",
       "\n",
       "    .dataframe tbody tr th {\n",
       "        vertical-align: top;\n",
       "    }\n",
       "\n",
       "    .dataframe thead th {\n",
       "        text-align: right;\n",
       "    }\n",
       "</style>\n",
       "<table border=\"1\" class=\"dataframe\">\n",
       "  <thead>\n",
       "    <tr style=\"text-align: right;\">\n",
       "      <th></th>\n",
       "      <th>gender</th>\n",
       "      <th>dob</th>\n",
       "      <th>occupation</th>\n",
       "      <th>work_exp</th>\n",
       "      <th>salary</th>\n",
       "      <th>own_house</th>\n",
       "      <th>children</th>\n",
       "    </tr>\n",
       "  </thead>\n",
       "  <tbody>\n",
       "    <tr>\n",
       "      <th>0</th>\n",
       "      <td>M</td>\n",
       "      <td>31-Jul-89</td>\n",
       "      <td>nurse</td>\n",
       "      <td>2.2</td>\n",
       "      <td>223700.0</td>\n",
       "      <td>True</td>\n",
       "      <td>1</td>\n",
       "    </tr>\n",
       "    <tr>\n",
       "      <th>1</th>\n",
       "      <td>NaN</td>\n",
       "      <td>30-Oct-92</td>\n",
       "      <td>dentist</td>\n",
       "      <td>6.7</td>\n",
       "      <td>121100.0</td>\n",
       "      <td>True</td>\n",
       "      <td>1</td>\n",
       "    </tr>\n",
       "    <tr>\n",
       "      <th>2</th>\n",
       "      <td>F</td>\n",
       "      <td>NaN</td>\n",
       "      <td>accountant</td>\n",
       "      <td>9.0</td>\n",
       "      <td>NaN</td>\n",
       "      <td>False</td>\n",
       "      <td>2</td>\n",
       "    </tr>\n",
       "    <tr>\n",
       "      <th>3</th>\n",
       "      <td>F</td>\n",
       "      <td>17-Sep-87</td>\n",
       "      <td>engineer</td>\n",
       "      <td>1.7</td>\n",
       "      <td>79900.0</td>\n",
       "      <td>False</td>\n",
       "      <td>0</td>\n",
       "    </tr>\n",
       "    <tr>\n",
       "      <th>4</th>\n",
       "      <td>M</td>\n",
       "      <td>24-Jan-93</td>\n",
       "      <td>teacher</td>\n",
       "      <td>3.6</td>\n",
       "      <td>32800.0</td>\n",
       "      <td>False</td>\n",
       "      <td>2</td>\n",
       "    </tr>\n",
       "  </tbody>\n",
       "</table>\n",
       "</div>"
      ]
     },
     "metadata": {},
     "execution_count": 3
    }
   ],
   "metadata": {}
  },
  {
   "cell_type": "code",
   "execution_count": 4,
   "source": [
    "df.info()"
   ],
   "outputs": [
    {
     "output_type": "stream",
     "name": "stdout",
     "text": [
      "<class 'pandas.core.frame.DataFrame'>\n",
      "RangeIndex: 10 entries, 0 to 9\n",
      "Data columns (total 7 columns):\n",
      " #   Column      Non-Null Count  Dtype  \n",
      "---  ------      --------------  -----  \n",
      " 0   gender      9 non-null      object \n",
      " 1   dob         8 non-null      object \n",
      " 2   occupation  10 non-null     object \n",
      " 3   work_exp    10 non-null     float64\n",
      " 4   salary      8 non-null      float64\n",
      " 5   own_house   10 non-null     bool   \n",
      " 6   children    10 non-null     int64  \n",
      "dtypes: bool(1), float64(2), int64(1), object(3)\n",
      "memory usage: 618.0+ bytes\n"
     ]
    }
   ],
   "metadata": {}
  },
  {
   "cell_type": "code",
   "execution_count": 5,
   "source": [
    "df=pd.read_table('https://github.com/prasertcbs/tutorial/raw/master/employee.tsv', parse_dates=['dob'])\r\n",
    "df.head()"
   ],
   "outputs": [
    {
     "output_type": "execute_result",
     "data": {
      "text/plain": [
       "  gender        dob  occupation  work_exp    salary  own_house  children\n",
       "0      M 1989-07-31       nurse       2.2  223700.0       True         1\n",
       "1    NaN 1992-10-30     dentist       6.7  121100.0       True         1\n",
       "2      F        NaT  accountant       9.0       NaN      False         2\n",
       "3      F 1987-09-17    engineer       1.7   79900.0      False         0\n",
       "4      M 1993-01-24     teacher       3.6   32800.0      False         2"
      ],
      "text/html": [
       "<div>\n",
       "<style scoped>\n",
       "    .dataframe tbody tr th:only-of-type {\n",
       "        vertical-align: middle;\n",
       "    }\n",
       "\n",
       "    .dataframe tbody tr th {\n",
       "        vertical-align: top;\n",
       "    }\n",
       "\n",
       "    .dataframe thead th {\n",
       "        text-align: right;\n",
       "    }\n",
       "</style>\n",
       "<table border=\"1\" class=\"dataframe\">\n",
       "  <thead>\n",
       "    <tr style=\"text-align: right;\">\n",
       "      <th></th>\n",
       "      <th>gender</th>\n",
       "      <th>dob</th>\n",
       "      <th>occupation</th>\n",
       "      <th>work_exp</th>\n",
       "      <th>salary</th>\n",
       "      <th>own_house</th>\n",
       "      <th>children</th>\n",
       "    </tr>\n",
       "  </thead>\n",
       "  <tbody>\n",
       "    <tr>\n",
       "      <th>0</th>\n",
       "      <td>M</td>\n",
       "      <td>1989-07-31</td>\n",
       "      <td>nurse</td>\n",
       "      <td>2.2</td>\n",
       "      <td>223700.0</td>\n",
       "      <td>True</td>\n",
       "      <td>1</td>\n",
       "    </tr>\n",
       "    <tr>\n",
       "      <th>1</th>\n",
       "      <td>NaN</td>\n",
       "      <td>1992-10-30</td>\n",
       "      <td>dentist</td>\n",
       "      <td>6.7</td>\n",
       "      <td>121100.0</td>\n",
       "      <td>True</td>\n",
       "      <td>1</td>\n",
       "    </tr>\n",
       "    <tr>\n",
       "      <th>2</th>\n",
       "      <td>F</td>\n",
       "      <td>NaT</td>\n",
       "      <td>accountant</td>\n",
       "      <td>9.0</td>\n",
       "      <td>NaN</td>\n",
       "      <td>False</td>\n",
       "      <td>2</td>\n",
       "    </tr>\n",
       "    <tr>\n",
       "      <th>3</th>\n",
       "      <td>F</td>\n",
       "      <td>1987-09-17</td>\n",
       "      <td>engineer</td>\n",
       "      <td>1.7</td>\n",
       "      <td>79900.0</td>\n",
       "      <td>False</td>\n",
       "      <td>0</td>\n",
       "    </tr>\n",
       "    <tr>\n",
       "      <th>4</th>\n",
       "      <td>M</td>\n",
       "      <td>1993-01-24</td>\n",
       "      <td>teacher</td>\n",
       "      <td>3.6</td>\n",
       "      <td>32800.0</td>\n",
       "      <td>False</td>\n",
       "      <td>2</td>\n",
       "    </tr>\n",
       "  </tbody>\n",
       "</table>\n",
       "</div>"
      ]
     },
     "metadata": {},
     "execution_count": 5
    }
   ],
   "metadata": {}
  },
  {
   "cell_type": "code",
   "execution_count": 6,
   "source": [
    "df.salary.mean()"
   ],
   "outputs": [
    {
     "output_type": "execute_result",
     "data": {
      "text/plain": [
       "122612.5"
      ]
     },
     "metadata": {},
     "execution_count": 6
    }
   ],
   "metadata": {}
  },
  {
   "cell_type": "code",
   "execution_count": 7,
   "source": [
    "df.salary.sum()"
   ],
   "outputs": [
    {
     "output_type": "execute_result",
     "data": {
      "text/plain": [
       "980900.0"
      ]
     },
     "metadata": {},
     "execution_count": 7
    }
   ],
   "metadata": {}
  },
  {
   "cell_type": "code",
   "execution_count": 8,
   "source": [
    "df.occupation.value_counts()"
   ],
   "outputs": [
    {
     "output_type": "execute_result",
     "data": {
      "text/plain": [
       "nurse         2\n",
       "teacher       2\n",
       "dentist       1\n",
       "accountant    1\n",
       "engineer      1\n",
       "developer     1\n",
       "lawyer        1\n",
       "police        1\n",
       "Name: occupation, dtype: int64"
      ]
     },
     "metadata": {},
     "execution_count": 8
    }
   ],
   "metadata": {}
  },
  {
   "cell_type": "code",
   "execution_count": 9,
   "source": [
    "df.occupation.str.upper()"
   ],
   "outputs": [
    {
     "output_type": "execute_result",
     "data": {
      "text/plain": [
       "0         NURSE\n",
       "1       DENTIST\n",
       "2    ACCOUNTANT\n",
       "3      ENGINEER\n",
       "4       TEACHER\n",
       "5     DEVELOPER\n",
       "6         NURSE\n",
       "7        LAWYER\n",
       "8       TEACHER\n",
       "9        POLICE\n",
       "Name: occupation, dtype: object"
      ]
     },
     "metadata": {},
     "execution_count": 9
    }
   ],
   "metadata": {}
  },
  {
   "cell_type": "code",
   "execution_count": 11,
   "source": [
    "pd.to_datetime('today').year-df.dob.dt.year"
   ],
   "outputs": [
    {
     "output_type": "execute_result",
     "data": {
      "text/plain": [
       "0    32.0\n",
       "1    29.0\n",
       "2     NaN\n",
       "3    34.0\n",
       "4    28.0\n",
       "5     NaN\n",
       "6    27.0\n",
       "7    30.0\n",
       "8    27.0\n",
       "9    34.0\n",
       "Name: dob, dtype: float64"
      ]
     },
     "metadata": {},
     "execution_count": 11
    }
   ],
   "metadata": {}
  },
  {
   "cell_type": "code",
   "execution_count": 12,
   "source": [
    "df['age'] = pd.to_datetime('today').year-df.dob.dt.year\r\n",
    "df"
   ],
   "outputs": [
    {
     "output_type": "execute_result",
     "data": {
      "text/plain": [
       "  gender        dob  occupation  work_exp    salary  own_house  children   age\n",
       "0      M 1989-07-31       nurse       2.2  223700.0       True         1  32.0\n",
       "1    NaN 1992-10-30     dentist       6.7  121100.0       True         1  29.0\n",
       "2      F        NaT  accountant       9.0       NaN      False         2   NaN\n",
       "3      F 1987-09-17    engineer       1.7   79900.0      False         0  34.0\n",
       "4      M 1993-01-24     teacher       3.6   32800.0      False         2  28.0\n",
       "5      F        NaT   developer       1.8       NaN       True         1   NaN\n",
       "6      F 1994-09-26       nurse       5.6  272500.0      False         1  27.0\n",
       "7      M 1991-05-07      lawyer       4.1   41600.0      False         0  30.0\n",
       "8      M 1994-12-04     teacher       3.3  141300.0       True         0  27.0\n",
       "9      M 1987-07-10      police       6.5   68000.0       True         1  34.0"
      ],
      "text/html": [
       "<div>\n",
       "<style scoped>\n",
       "    .dataframe tbody tr th:only-of-type {\n",
       "        vertical-align: middle;\n",
       "    }\n",
       "\n",
       "    .dataframe tbody tr th {\n",
       "        vertical-align: top;\n",
       "    }\n",
       "\n",
       "    .dataframe thead th {\n",
       "        text-align: right;\n",
       "    }\n",
       "</style>\n",
       "<table border=\"1\" class=\"dataframe\">\n",
       "  <thead>\n",
       "    <tr style=\"text-align: right;\">\n",
       "      <th></th>\n",
       "      <th>gender</th>\n",
       "      <th>dob</th>\n",
       "      <th>occupation</th>\n",
       "      <th>work_exp</th>\n",
       "      <th>salary</th>\n",
       "      <th>own_house</th>\n",
       "      <th>children</th>\n",
       "      <th>age</th>\n",
       "    </tr>\n",
       "  </thead>\n",
       "  <tbody>\n",
       "    <tr>\n",
       "      <th>0</th>\n",
       "      <td>M</td>\n",
       "      <td>1989-07-31</td>\n",
       "      <td>nurse</td>\n",
       "      <td>2.2</td>\n",
       "      <td>223700.0</td>\n",
       "      <td>True</td>\n",
       "      <td>1</td>\n",
       "      <td>32.0</td>\n",
       "    </tr>\n",
       "    <tr>\n",
       "      <th>1</th>\n",
       "      <td>NaN</td>\n",
       "      <td>1992-10-30</td>\n",
       "      <td>dentist</td>\n",
       "      <td>6.7</td>\n",
       "      <td>121100.0</td>\n",
       "      <td>True</td>\n",
       "      <td>1</td>\n",
       "      <td>29.0</td>\n",
       "    </tr>\n",
       "    <tr>\n",
       "      <th>2</th>\n",
       "      <td>F</td>\n",
       "      <td>NaT</td>\n",
       "      <td>accountant</td>\n",
       "      <td>9.0</td>\n",
       "      <td>NaN</td>\n",
       "      <td>False</td>\n",
       "      <td>2</td>\n",
       "      <td>NaN</td>\n",
       "    </tr>\n",
       "    <tr>\n",
       "      <th>3</th>\n",
       "      <td>F</td>\n",
       "      <td>1987-09-17</td>\n",
       "      <td>engineer</td>\n",
       "      <td>1.7</td>\n",
       "      <td>79900.0</td>\n",
       "      <td>False</td>\n",
       "      <td>0</td>\n",
       "      <td>34.0</td>\n",
       "    </tr>\n",
       "    <tr>\n",
       "      <th>4</th>\n",
       "      <td>M</td>\n",
       "      <td>1993-01-24</td>\n",
       "      <td>teacher</td>\n",
       "      <td>3.6</td>\n",
       "      <td>32800.0</td>\n",
       "      <td>False</td>\n",
       "      <td>2</td>\n",
       "      <td>28.0</td>\n",
       "    </tr>\n",
       "    <tr>\n",
       "      <th>5</th>\n",
       "      <td>F</td>\n",
       "      <td>NaT</td>\n",
       "      <td>developer</td>\n",
       "      <td>1.8</td>\n",
       "      <td>NaN</td>\n",
       "      <td>True</td>\n",
       "      <td>1</td>\n",
       "      <td>NaN</td>\n",
       "    </tr>\n",
       "    <tr>\n",
       "      <th>6</th>\n",
       "      <td>F</td>\n",
       "      <td>1994-09-26</td>\n",
       "      <td>nurse</td>\n",
       "      <td>5.6</td>\n",
       "      <td>272500.0</td>\n",
       "      <td>False</td>\n",
       "      <td>1</td>\n",
       "      <td>27.0</td>\n",
       "    </tr>\n",
       "    <tr>\n",
       "      <th>7</th>\n",
       "      <td>M</td>\n",
       "      <td>1991-05-07</td>\n",
       "      <td>lawyer</td>\n",
       "      <td>4.1</td>\n",
       "      <td>41600.0</td>\n",
       "      <td>False</td>\n",
       "      <td>0</td>\n",
       "      <td>30.0</td>\n",
       "    </tr>\n",
       "    <tr>\n",
       "      <th>8</th>\n",
       "      <td>M</td>\n",
       "      <td>1994-12-04</td>\n",
       "      <td>teacher</td>\n",
       "      <td>3.3</td>\n",
       "      <td>141300.0</td>\n",
       "      <td>True</td>\n",
       "      <td>0</td>\n",
       "      <td>27.0</td>\n",
       "    </tr>\n",
       "    <tr>\n",
       "      <th>9</th>\n",
       "      <td>M</td>\n",
       "      <td>1987-07-10</td>\n",
       "      <td>police</td>\n",
       "      <td>6.5</td>\n",
       "      <td>68000.0</td>\n",
       "      <td>True</td>\n",
       "      <td>1</td>\n",
       "      <td>34.0</td>\n",
       "    </tr>\n",
       "  </tbody>\n",
       "</table>\n",
       "</div>"
      ]
     },
     "metadata": {},
     "execution_count": 12
    }
   ],
   "metadata": {}
  },
  {
   "cell_type": "code",
   "execution_count": 14,
   "source": [
    "df.age.mean()"
   ],
   "outputs": [
    {
     "output_type": "execute_result",
     "data": {
      "text/plain": [
       "30.125"
      ]
     },
     "metadata": {},
     "execution_count": 14
    }
   ],
   "metadata": {}
  },
  {
   "cell_type": "code",
   "execution_count": 15,
   "source": [
    "df.own_house.value_counts()"
   ],
   "outputs": [
    {
     "output_type": "execute_result",
     "data": {
      "text/plain": [
       "True     5\n",
       "False    5\n",
       "Name: own_house, dtype: int64"
      ]
     },
     "metadata": {},
     "execution_count": 15
    }
   ],
   "metadata": {}
  },
  {
   "cell_type": "code",
   "execution_count": 16,
   "source": [
    "df.describe()"
   ],
   "outputs": [
    {
     "output_type": "execute_result",
     "data": {
      "text/plain": [
       "        work_exp         salary   children        age\n",
       "count  10.000000       8.000000  10.000000   8.000000\n",
       "mean    4.450000  122612.500000   0.900000  30.125000\n",
       "std     2.429106   86579.978509   0.737865   2.900123\n",
       "min     1.700000   32800.000000   0.000000  27.000000\n",
       "25%     2.475000   61400.000000   0.250000  27.750000\n",
       "50%     3.850000  100500.000000   1.000000  29.500000\n",
       "75%     6.275000  161900.000000   1.000000  32.500000\n",
       "max     9.000000  272500.000000   2.000000  34.000000"
      ],
      "text/html": [
       "<div>\n",
       "<style scoped>\n",
       "    .dataframe tbody tr th:only-of-type {\n",
       "        vertical-align: middle;\n",
       "    }\n",
       "\n",
       "    .dataframe tbody tr th {\n",
       "        vertical-align: top;\n",
       "    }\n",
       "\n",
       "    .dataframe thead th {\n",
       "        text-align: right;\n",
       "    }\n",
       "</style>\n",
       "<table border=\"1\" class=\"dataframe\">\n",
       "  <thead>\n",
       "    <tr style=\"text-align: right;\">\n",
       "      <th></th>\n",
       "      <th>work_exp</th>\n",
       "      <th>salary</th>\n",
       "      <th>children</th>\n",
       "      <th>age</th>\n",
       "    </tr>\n",
       "  </thead>\n",
       "  <tbody>\n",
       "    <tr>\n",
       "      <th>count</th>\n",
       "      <td>10.000000</td>\n",
       "      <td>8.000000</td>\n",
       "      <td>10.000000</td>\n",
       "      <td>8.000000</td>\n",
       "    </tr>\n",
       "    <tr>\n",
       "      <th>mean</th>\n",
       "      <td>4.450000</td>\n",
       "      <td>122612.500000</td>\n",
       "      <td>0.900000</td>\n",
       "      <td>30.125000</td>\n",
       "    </tr>\n",
       "    <tr>\n",
       "      <th>std</th>\n",
       "      <td>2.429106</td>\n",
       "      <td>86579.978509</td>\n",
       "      <td>0.737865</td>\n",
       "      <td>2.900123</td>\n",
       "    </tr>\n",
       "    <tr>\n",
       "      <th>min</th>\n",
       "      <td>1.700000</td>\n",
       "      <td>32800.000000</td>\n",
       "      <td>0.000000</td>\n",
       "      <td>27.000000</td>\n",
       "    </tr>\n",
       "    <tr>\n",
       "      <th>25%</th>\n",
       "      <td>2.475000</td>\n",
       "      <td>61400.000000</td>\n",
       "      <td>0.250000</td>\n",
       "      <td>27.750000</td>\n",
       "    </tr>\n",
       "    <tr>\n",
       "      <th>50%</th>\n",
       "      <td>3.850000</td>\n",
       "      <td>100500.000000</td>\n",
       "      <td>1.000000</td>\n",
       "      <td>29.500000</td>\n",
       "    </tr>\n",
       "    <tr>\n",
       "      <th>75%</th>\n",
       "      <td>6.275000</td>\n",
       "      <td>161900.000000</td>\n",
       "      <td>1.000000</td>\n",
       "      <td>32.500000</td>\n",
       "    </tr>\n",
       "    <tr>\n",
       "      <th>max</th>\n",
       "      <td>9.000000</td>\n",
       "      <td>272500.000000</td>\n",
       "      <td>2.000000</td>\n",
       "      <td>34.000000</td>\n",
       "    </tr>\n",
       "  </tbody>\n",
       "</table>\n",
       "</div>"
      ]
     },
     "metadata": {},
     "execution_count": 16
    }
   ],
   "metadata": {}
  },
  {
   "cell_type": "code",
   "execution_count": 20,
   "source": [
    "df.dob.dt.weekday"
   ],
   "outputs": [
    {
     "output_type": "execute_result",
     "data": {
      "text/plain": [
       "0    0.0\n",
       "1    4.0\n",
       "2    NaN\n",
       "3    3.0\n",
       "4    6.0\n",
       "5    NaN\n",
       "6    0.0\n",
       "7    1.0\n",
       "8    6.0\n",
       "9    4.0\n",
       "Name: dob, dtype: float64"
      ]
     },
     "metadata": {},
     "execution_count": 20
    }
   ],
   "metadata": {}
  },
  {
   "cell_type": "code",
   "execution_count": null,
   "source": [],
   "outputs": [],
   "metadata": {}
  }
 ],
 "metadata": {
  "orig_nbformat": 4,
  "language_info": {
   "name": "python",
   "version": "3.9.6",
   "mimetype": "text/x-python",
   "codemirror_mode": {
    "name": "ipython",
    "version": 3
   },
   "pygments_lexer": "ipython3",
   "nbconvert_exporter": "python",
   "file_extension": ".py"
  },
  "kernelspec": {
   "name": "python3",
   "display_name": "Python 3.9.6 64-bit"
  },
  "interpreter": {
   "hash": "ac59ebe37160ed0dfa835113d9b8498d9f09ceb179beaac4002f036b9467c963"
  }
 },
 "nbformat": 4,
 "nbformat_minor": 2
}